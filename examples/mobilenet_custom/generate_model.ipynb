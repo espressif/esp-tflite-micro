{
  "cells": [
    {
      "cell_type": "code",
      "execution_count": null,
      "id": "f42b914f-3fa6-41e3-aa50-edc53e1583d7",
      "metadata": {
        "id": "f42b914f-3fa6-41e3-aa50-edc53e1583d7"
      },
      "outputs": [],
      "source": [
        "%pip install tensorflow"
      ]
    },
    {
      "cell_type": "code",
      "execution_count": null,
      "id": "fe298498-2047-437f-b3f3-34aec5d08831",
      "metadata": {
        "id": "fe298498-2047-437f-b3f3-34aec5d08831"
      },
      "outputs": [],
      "source": [
        "import os\n",
        "import numpy as np\n",
        "import tensorflow as tf\n",
        "import tensorflow_model_optimization as tfmot\n",
        "from tensorflow.keras import applications, Input, Model, layers, optimizers, losses\n",
        "from tensorflow.keras.utils import image_dataset_from_directory"
      ]
    },
    {
      "cell_type": "markdown",
      "id": "4ad587ce",
      "metadata": {
        "id": "4ad587ce"
      },
      "source": [
        "# Global Configuration\n",
        "\n",
        "- `DATASET_DIR`: The directory where the dataset is stored. Each subdirectory in this folder represents a separate label.\n",
        "- `NUM_LABELS`: Automatically computed from the number of subdirectories in `DATASET_DIR`. This makes the notebook flexible and automatically adjusts if you add or remove label folders.\n",
        "- `BATCH_SIZE` and `IMG_SIZE`: Define the batch size and target input image size (224×224) used during training.\n",
        "- Training configuration parameters such as `INITIAL_EPOCHS`, `FINE_TUNE_EPOCHS`, and `FINE_TUNE_AT` control the number of training epochs and the point at which fine-tuning begins.\n",
        "- Learning rate parameters (`BASE_LEARNING_RATE`, `FINE_TUNE_LEARNING_RATE`) are defined to configure the optimizer.\n",
        "\n",
        "Feel free to change these variables to match your dataset, desired model complexity, or hardware constraints.\n",
        "\n"
      ]
    },
    {
      "cell_type": "code",
      "execution_count": null,
      "id": "4565c997-28a1-4914-b90e-5cdcd195d2d5",
      "metadata": {
        "id": "4565c997-28a1-4914-b90e-5cdcd195d2d5"
      },
      "outputs": [],
      "source": [
        "# Path to dataset (each subdirectory represents a label)\n",
        "DATASET_DIR = \"dataset/\"\n",
        "\n",
        "# Automatically fetch the number of labels based on subdirectories.\n",
        "# Only count directories (ignore files).\n",
        "NUM_LABELS = len([d for d in sorted(os.listdir(DATASET_DIR)) if os.path.isdir(os.path.join(DATASET_DIR, d))])\n",
        "print(f\"Detected {NUM_LABELS} label(s) in {DATASET_DIR}\")"
      ]
    },
    {
      "cell_type": "code",
      "execution_count": null,
      "id": "c8a277f4-101f-4694-975b-4c368bba77f4",
      "metadata": {
        "id": "c8a277f4-101f-4694-975b-4c368bba77f4"
      },
      "outputs": [],
      "source": [
        "# Global configuration variables\n",
        "BATCH_SIZE = 50                # Batch size for training/validation\n",
        "IMG_SIZE = (224, 224)          # Input image dimensions\n",
        "\n",
        "# Training epochs\n",
        "INITIAL_EPOCHS = 10\n",
        "FINE_TUNE_EPOCHS = 5\n",
        "TOTAL_EPOCHS = INITIAL_EPOCHS + FINE_TUNE_EPOCHS\n",
        "\n",
        "# Fine-tuning configuration:\n",
        "FINE_TUNE_AT = 120\n",
        "\n",
        "# Learning rates\n",
        "BASE_LEARNING_RATE = 0.001\n",
        "FINE_TUNE_LEARNING_RATE = 0.1 * BASE_LEARNING_RATE"
      ]
    },
    {
      "cell_type": "markdown",
      "source": [
        "# Model Building and Preprocessing Functions\n",
        "\n",
        "These cells contain two functions:\n",
        "\n",
        "1. **`get_model(num_labels)`**  \n",
        "   - Builds a custom classifier using MobileNetV2 as the base model (pre-trained on ImageNet, with its top layers removed).\n",
        "   - Adds a global average pooling layer, dropout, and a Dense layer with softmax activation for classification.\n",
        "   - The number of output nodes (classes) is set dynamically based on `num_labels`, which is determined by your dataset structure.\n",
        "   \n",
        "2. **`preprocess(image, label)`**  \n",
        "   - Applies the standard preprocessing for MobileNetV2, converting input images from [0,255] to [-1,1].\n",
        "   \n",
        "These functions are the foundation for model creation. You can modify or extend them if you need a different architecture or preprocessing pipeline.\n"
      ],
      "metadata": {
        "id": "WB5PSNzVrK1F"
      },
      "id": "WB5PSNzVrK1F"
    },
    {
      "cell_type": "code",
      "execution_count": null,
      "id": "6b7a79f0-50b5-44f6-ba75-c3b0b583de77",
      "metadata": {
        "id": "6b7a79f0-50b5-44f6-ba75-c3b0b583de77"
      },
      "outputs": [],
      "source": [
        "def preprocess(image, label):\n",
        "    # Use MobileNetV2 preprocessing (converts from [0,255] to [-1,1])\n",
        "    image = applications.mobilenet_v2.preprocess_input(image)\n",
        "    return image, label"
      ]
    },
    {
      "cell_type": "code",
      "execution_count": null,
      "id": "19325283-6606-4d20-86f0-3e7e205703ce",
      "metadata": {
        "id": "19325283-6606-4d20-86f0-3e7e205703ce"
      },
      "outputs": [],
      "source": [
        "def get_model(num_labels=NUM_LABELS):\n",
        "    # Load the MobileNetV2 base model without the top layers.\n",
        "    base_model = applications.MobileNetV2(\n",
        "        alpha=0.35,\n",
        "        input_shape=(IMG_SIZE[0], IMG_SIZE[1], 3),\n",
        "        include_top=False,\n",
        "        weights='imagenet'\n",
        "    )\n",
        "    base_model.trainable = False\n",
        "\n",
        "    inputs = Input(shape=(IMG_SIZE[0], IMG_SIZE[1], 3))\n",
        "    x = base_model(inputs, training=False)\n",
        "    x = layers.GlobalAveragePooling2D()(x)\n",
        "    x = layers.Dropout(0.2)(x)\n",
        "    outputs = layers.Dense(num_labels, activation='softmax')(x)\n",
        "    model = Model(inputs, outputs)\n",
        "\n",
        "    model.summary()\n",
        "    return model"
      ]
    },
    {
      "cell_type": "code",
      "execution_count": null,
      "id": "b173eccd-cb55-43db-95ba-164c9f230128",
      "metadata": {
        "id": "b173eccd-cb55-43db-95ba-164c9f230128"
      },
      "outputs": [],
      "source": [
        "# Create training and validation datasets from the directory.\n",
        "train_dataset = image_dataset_from_directory(\n",
        "    DATASET_DIR,\n",
        "    shuffle=True,\n",
        "    batch_size=BATCH_SIZE,\n",
        "    image_size=IMG_SIZE,\n",
        "    validation_split=0.2,\n",
        "    subset='training',\n",
        "    seed=42,\n",
        ").map(preprocess)\n",
        "\n",
        "validation_dataset = image_dataset_from_directory(\n",
        "    DATASET_DIR,\n",
        "    shuffle=True,\n",
        "    batch_size=BATCH_SIZE,\n",
        "    image_size=IMG_SIZE,\n",
        "    validation_split=0.2,\n",
        "    subset='validation',\n",
        "    seed=42,\n",
        ").map(preprocess)"
      ]
    },
    {
      "cell_type": "markdown",
      "source": [
        "# Model Training and Fine-Tuning\n",
        "\n",
        "Here onwards we perform both initial training and fine-tuning of the model.\n",
        "\n",
        "1. **Initial Training:**  \n",
        "   - The model is built and compiled with an Adam optimizer and Sparse Categorical Crossentropy loss.\n",
        "   - The model is trained for a set number of epochs (`INITIAL_EPOCHS`) using the prepared training and validation datasets.\n",
        "\n",
        "2. **Fine-Tuning:**  \n",
        "   - The base model is unfrozen partially (layers after index `FINE_TUNE_AT` are set to trainable) for fine-tuning.\n",
        "   - The learning rate is reduced during fine-tuning (`FINE_TUNE_LEARNING_RATE`).\n",
        "   - The model is recompiled and fine-tuned for additional epochs (`FINE_TUNE_EPOCHS`).\n",
        "\n",
        "Finally, the model is evaluated on the validation dataset and saved in both Keras and SavedModel formats. Adjust these parameters as needed for your dataset and target performance.\n"
      ],
      "metadata": {
        "id": "0vxtO8E3rWWD"
      },
      "id": "0vxtO8E3rWWD"
    },
    {
      "cell_type": "code",
      "execution_count": null,
      "id": "8aa6412b-3b52-433d-b9f4-1ef8ce0f7b03",
      "metadata": {
        "id": "8aa6412b-3b52-433d-b9f4-1ef8ce0f7b03"
      },
      "outputs": [],
      "source": [
        "# Build and compile the initial model.\n",
        "model = get_model(num_labels=NUM_LABELS)\n",
        "model.compile(optimizer=optimizers.Adam(learning_rate=BASE_LEARNING_RATE),\n",
        "              loss=losses.SparseCategoricalCrossentropy(from_logits=True),\n",
        "              metrics=['accuracy'])\n",
        "\n",
        "print(\"Training the classifier...\")\n",
        "history = model.fit(train_dataset, validation_data=validation_dataset, epochs=INITIAL_EPOCHS)"
      ]
    },
    {
      "cell_type": "code",
      "execution_count": null,
      "id": "929138fc-660e-4dd1-9b48-bc9384c2af7d",
      "metadata": {
        "id": "929138fc-660e-4dd1-9b48-bc9384c2af7d"
      },
      "outputs": [],
      "source": [
        "# Fine-tuning: unfreeze the base model layers starting from FINE_TUNE_AT.\n",
        "base_model = model.layers[1]\n",
        "base_model.trainable = True\n",
        "print(\"Number of layers in the base model:\", len(base_model.layers))\n",
        "\n",
        "for layer in base_model.layers[:FINE_TUNE_AT]:\n",
        "    layer.trainable = False\n",
        "\n",
        "model.compile(optimizer=optimizers.Adam(learning_rate=FINE_TUNE_LEARNING_RATE),\n",
        "              loss=losses.SparseCategoricalCrossentropy(from_logits=True),\n",
        "              metrics=['accuracy'])\n",
        "\n",
        "print(f\"Fine-tuning the base model (layer {FINE_TUNE_AT} onwards)...\")\n",
        "history_fine = model.fit(\n",
        "    train_dataset,\n",
        "    epochs=TOTAL_EPOCHS,\n",
        "    initial_epoch=history.epoch[-1],\n",
        "    validation_data=validation_dataset,\n",
        ")"
      ]
    },
    {
      "cell_type": "code",
      "execution_count": null,
      "id": "5948085e-291b-40fa-ad86-aec60c6eea16",
      "metadata": {
        "id": "5948085e-291b-40fa-ad86-aec60c6eea16"
      },
      "outputs": [],
      "source": [
        "loss, accuracy = model.evaluate(validation_dataset)\n",
        "print(f\"Validation Accuracy: {accuracy * 100:.2f}%\")"
      ]
    },
    {
      "cell_type": "code",
      "execution_count": null,
      "id": "4f30f0ae-152b-474c-ae70-2db5586a293a",
      "metadata": {
        "id": "4f30f0ae-152b-474c-ae70-2db5586a293a"
      },
      "outputs": [],
      "source": [
        "# Save the final model.\n",
        "model.save('mobilenet_custom_model.keras')\n",
        "model.export('mobilenet_custom_model_saved_model')"
      ]
    },
    {
      "cell_type": "markdown",
      "source": [
        "# Representative Dataset Generator for Quantization\n",
        "\n",
        "This cell defines `representative_data_gen()`, which is crucial for INT8 quantization of your model.\n",
        "\n",
        "- It automatically detects all label subdirectories within your dataset (so it works for any number of labels).\n",
        "- For each image, it:\n",
        "  - Loads and resizes the image to `IMG_SIZE`.\n",
        "  - Converts the image to a numpy array and normalizes it to the range [-1,1] (as required by MobileNetV2).\n",
        "  - Generates several variants of each image (using brightness and contrast adjustments) to better calibrate the quantization process.\n",
        "  \n",
        "The representative dataset is used by the TFLite converter to calibrate the quantization parameters, ensuring that the quantized model performs well on real-world data.\n"
      ],
      "metadata": {
        "id": "zIevSvzHrtVS"
      },
      "id": "zIevSvzHrtVS"
    },
    {
      "cell_type": "code",
      "execution_count": null,
      "id": "6f471ce6-f244-40cf-9c34-4b40ba0edbec",
      "metadata": {
        "id": "6f471ce6-f244-40cf-9c34-4b40ba0edbec"
      },
      "outputs": [],
      "source": [
        "def representative_data_gen():\n",
        "    from tensorflow.keras.preprocessing.image import load_img, img_to_array\n",
        "    # List all subdirectories in the dataset directory.\n",
        "    label_dirs = [d for d in sorted(os.listdir(DATASET_DIR)) if os.path.isdir(os.path.join(DATASET_DIR, d))]\n",
        "\n",
        "    # Optionally, limit to NUM_LABELS if defined (otherwise, use all subdirectories)\n",
        "    if NUM_LABELS and len(label_dirs) > NUM_LABELS:\n",
        "        label_dirs = label_dirs[:NUM_LABELS]\n",
        "\n",
        "    # Iterate over each label directory.\n",
        "    for label in label_dirs:\n",
        "        label_path = os.path.join(DATASET_DIR, label)\n",
        "        # List all image files in this directory.\n",
        "        files = sorted(os.listdir(label_path))\n",
        "        for f in files:\n",
        "            img_path = os.path.join(label_path, f)\n",
        "            img = load_img(img_path, target_size=IMG_SIZE)\n",
        "            img_array = img_to_array(img).astype(np.float32)\n",
        "            # Normalize to [-1,1]\n",
        "            img_normalized = img_array / 127.5 - 1.0\n",
        "\n",
        "            variants = [img_normalized]\n",
        "\n",
        "            # Create brightness variants.\n",
        "            for brightness in [0.8, 1.2]:\n",
        "                variant = tf.image.adjust_brightness(img_array, brightness - 1)\n",
        "                variant = variant / 127.5 - 1.0\n",
        "                variants.append(variant.numpy())\n",
        "\n",
        "            # Create contrast variants.\n",
        "            for contrast in [0.8, 1.2]:\n",
        "                variant = tf.image.adjust_contrast(img_array, contrast)\n",
        "                variant = variant / 127.5 - 1.0\n",
        "                variants.append(variant.numpy())\n",
        "\n",
        "            # Yield each variant as a batch.\n",
        "            for variant in variants:\n",
        "                yield [np.expand_dims(variant, axis=0).astype(np.float32)]\n"
      ]
    },
    {
      "cell_type": "markdown",
      "source": [
        "# Model Quantization to TFLite INT8\n",
        "\n",
        "In this final cell, we convert the trained model (SavedModel format) into a fully quantized TFLite model using INT8 precision.\n",
        "\n",
        "Key steps include:\n",
        "- **Optimizations:** Enabling default optimizations and setting the converter to use INT8 operations exclusively.\n",
        "- **Representative Dataset:** The previously defined `representative_data_gen()` is provided to calibrate the quantization parameters.\n",
        "- **Experimental Settings:**  \n",
        "  - `_experimental_new_quantizer` is set to True.\n",
        "  - `_experimental_disable_per_channel` is set to False to allow per-channel quantization.\n",
        "- **Input/Output Types:** The converter is set to use `tf.int8` for both inference input and output.\n",
        "\n",
        "After conversion, the quantized model is written to disk as `human_detect_experiment.tflite`. This file is ready for deployment on an embedded device running TFLite Micro.\n",
        "\n",
        "Feel free to adjust these parameters if you have specific quantization requirements.\n"
      ],
      "metadata": {
        "id": "9GH0ibLUr7Tr"
      },
      "id": "9GH0ibLUr7Tr"
    },
    {
      "cell_type": "code",
      "execution_count": null,
      "id": "983ae161-528f-4280-97a4-936552c73baa",
      "metadata": {
        "id": "983ae161-528f-4280-97a4-936552c73baa"
      },
      "outputs": [],
      "source": [
        "converter = tf.lite.TFLiteConverter.from_saved_model(\"mobilenet_custom_model_saved_model\")\n",
        "converter.optimizations = [tf.lite.Optimize.DEFAULT]\n",
        "converter.representative_dataset = representative_data_gen\n",
        "converter.target_spec.supported_ops = [tf.lite.OpsSet.TFLITE_BUILTINS_INT8]\n",
        "converter.target_spec.supported_types = [tf.int8]\n",
        "converter._experimental_new_quantizer = True\n",
        "converter._experimental_disable_per_channel = False\n",
        "converter.inference_input_type = tf.int8\n",
        "converter.inference_output_type = tf.int8\n",
        "\n",
        "print(\"Converting model to TFLite...\")\n",
        "tflite_model = converter.convert()\n",
        "\n",
        "with open(\"mobilenet_custom_model.tflite\", \"wb\") as f:\n",
        "    f.write(tflite_model)\n",
        "print(\"Model exported to mobilenet_custom_model.tflite\")"
      ]
    }
  ],
  "metadata": {
    "kernelspec": {
      "display_name": "Python 3 (ipykernel)",
      "language": "python",
      "name": "python3"
    },
    "language_info": {
      "codemirror_mode": {
        "name": "ipython",
        "version": 3
      },
      "file_extension": ".py",
      "mimetype": "text/x-python",
      "name": "python",
      "nbconvert_exporter": "python",
      "pygments_lexer": "ipython3",
      "version": "3.10.16"
    },
    "colab": {
      "provenance": []
    }
  },
  "nbformat": 4,
  "nbformat_minor": 5
}